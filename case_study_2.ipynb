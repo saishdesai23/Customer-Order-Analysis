{
  "nbformat": 4,
  "nbformat_minor": 0,
  "metadata": {
    "colab": {
      "name": "case_study-2.ipynb",
      "provenance": [],
      "collapsed_sections": []
    },
    "kernelspec": {
      "name": "python3",
      "display_name": "Python 3"
    },
    "language_info": {
      "name": "python"
    }
  },
  "cells": [
    {
      "cell_type": "markdown",
      "source": [
        "Customer order Analysis"
      ],
      "metadata": {
        "id": "2gZJm0S78Mk1"
      }
    },
    {
      "cell_type": "code",
      "source": [
        "#importing required libraries\n",
        "import pandas as pd\n",
        "import numpy as np\n",
        "import matplotlib.pyplot as plt\n",
        "import seaborn as sns"
      ],
      "metadata": {
        "id": "x_VfQr3y8Tis"
      },
      "execution_count": 78,
      "outputs": []
    },
    {
      "cell_type": "code",
      "source": [
        "customer_order = pd.read_csv(\"/content/casestudy.csv\")\n",
        "customer_order.drop(columns=['Unnamed: 0'], inplace=True)\n",
        "customer_order.head()"
      ],
      "metadata": {
        "colab": {
          "base_uri": "https://localhost:8080/",
          "height": 206
        },
        "id": "vlsUfkw68aE-",
        "outputId": "e3b81886-5d82-40dc-db69-0b7d6b43e419"
      },
      "execution_count": 79,
      "outputs": [
        {
          "output_type": "execute_result",
          "data": {
            "text/plain": [
              "          customer_email  net_revenue  year\n",
              "0   nhknapwsbx@gmail.com       249.92  2015\n",
              "1   joiuzbvcpn@gmail.com        87.61  2015\n",
              "2   ukkjctepxt@gmail.com       168.38  2015\n",
              "3   gykatilzrt@gmail.com        62.40  2015\n",
              "4   mmsgsrtxah@gmail.com        43.08  2015"
            ],
            "text/html": [
              "\n",
              "  <div id=\"df-5870f33a-5dad-4183-a51e-f76fbf8fb0be\">\n",
              "    <div class=\"colab-df-container\">\n",
              "      <div>\n",
              "<style scoped>\n",
              "    .dataframe tbody tr th:only-of-type {\n",
              "        vertical-align: middle;\n",
              "    }\n",
              "\n",
              "    .dataframe tbody tr th {\n",
              "        vertical-align: top;\n",
              "    }\n",
              "\n",
              "    .dataframe thead th {\n",
              "        text-align: right;\n",
              "    }\n",
              "</style>\n",
              "<table border=\"1\" class=\"dataframe\">\n",
              "  <thead>\n",
              "    <tr style=\"text-align: right;\">\n",
              "      <th></th>\n",
              "      <th>customer_email</th>\n",
              "      <th>net_revenue</th>\n",
              "      <th>year</th>\n",
              "    </tr>\n",
              "  </thead>\n",
              "  <tbody>\n",
              "    <tr>\n",
              "      <th>0</th>\n",
              "      <td>nhknapwsbx@gmail.com</td>\n",
              "      <td>249.92</td>\n",
              "      <td>2015</td>\n",
              "    </tr>\n",
              "    <tr>\n",
              "      <th>1</th>\n",
              "      <td>joiuzbvcpn@gmail.com</td>\n",
              "      <td>87.61</td>\n",
              "      <td>2015</td>\n",
              "    </tr>\n",
              "    <tr>\n",
              "      <th>2</th>\n",
              "      <td>ukkjctepxt@gmail.com</td>\n",
              "      <td>168.38</td>\n",
              "      <td>2015</td>\n",
              "    </tr>\n",
              "    <tr>\n",
              "      <th>3</th>\n",
              "      <td>gykatilzrt@gmail.com</td>\n",
              "      <td>62.40</td>\n",
              "      <td>2015</td>\n",
              "    </tr>\n",
              "    <tr>\n",
              "      <th>4</th>\n",
              "      <td>mmsgsrtxah@gmail.com</td>\n",
              "      <td>43.08</td>\n",
              "      <td>2015</td>\n",
              "    </tr>\n",
              "  </tbody>\n",
              "</table>\n",
              "</div>\n",
              "      <button class=\"colab-df-convert\" onclick=\"convertToInteractive('df-5870f33a-5dad-4183-a51e-f76fbf8fb0be')\"\n",
              "              title=\"Convert this dataframe to an interactive table.\"\n",
              "              style=\"display:none;\">\n",
              "        \n",
              "  <svg xmlns=\"http://www.w3.org/2000/svg\" height=\"24px\"viewBox=\"0 0 24 24\"\n",
              "       width=\"24px\">\n",
              "    <path d=\"M0 0h24v24H0V0z\" fill=\"none\"/>\n",
              "    <path d=\"M18.56 5.44l.94 2.06.94-2.06 2.06-.94-2.06-.94-.94-2.06-.94 2.06-2.06.94zm-11 1L8.5 8.5l.94-2.06 2.06-.94-2.06-.94L8.5 2.5l-.94 2.06-2.06.94zm10 10l.94 2.06.94-2.06 2.06-.94-2.06-.94-.94-2.06-.94 2.06-2.06.94z\"/><path d=\"M17.41 7.96l-1.37-1.37c-.4-.4-.92-.59-1.43-.59-.52 0-1.04.2-1.43.59L10.3 9.45l-7.72 7.72c-.78.78-.78 2.05 0 2.83L4 21.41c.39.39.9.59 1.41.59.51 0 1.02-.2 1.41-.59l7.78-7.78 2.81-2.81c.8-.78.8-2.07 0-2.86zM5.41 20L4 18.59l7.72-7.72 1.47 1.35L5.41 20z\"/>\n",
              "  </svg>\n",
              "      </button>\n",
              "      \n",
              "  <style>\n",
              "    .colab-df-container {\n",
              "      display:flex;\n",
              "      flex-wrap:wrap;\n",
              "      gap: 12px;\n",
              "    }\n",
              "\n",
              "    .colab-df-convert {\n",
              "      background-color: #E8F0FE;\n",
              "      border: none;\n",
              "      border-radius: 50%;\n",
              "      cursor: pointer;\n",
              "      display: none;\n",
              "      fill: #1967D2;\n",
              "      height: 32px;\n",
              "      padding: 0 0 0 0;\n",
              "      width: 32px;\n",
              "    }\n",
              "\n",
              "    .colab-df-convert:hover {\n",
              "      background-color: #E2EBFA;\n",
              "      box-shadow: 0px 1px 2px rgba(60, 64, 67, 0.3), 0px 1px 3px 1px rgba(60, 64, 67, 0.15);\n",
              "      fill: #174EA6;\n",
              "    }\n",
              "\n",
              "    [theme=dark] .colab-df-convert {\n",
              "      background-color: #3B4455;\n",
              "      fill: #D2E3FC;\n",
              "    }\n",
              "\n",
              "    [theme=dark] .colab-df-convert:hover {\n",
              "      background-color: #434B5C;\n",
              "      box-shadow: 0px 1px 3px 1px rgba(0, 0, 0, 0.15);\n",
              "      filter: drop-shadow(0px 1px 2px rgba(0, 0, 0, 0.3));\n",
              "      fill: #FFFFFF;\n",
              "    }\n",
              "  </style>\n",
              "\n",
              "      <script>\n",
              "        const buttonEl =\n",
              "          document.querySelector('#df-5870f33a-5dad-4183-a51e-f76fbf8fb0be button.colab-df-convert');\n",
              "        buttonEl.style.display =\n",
              "          google.colab.kernel.accessAllowed ? 'block' : 'none';\n",
              "\n",
              "        async function convertToInteractive(key) {\n",
              "          const element = document.querySelector('#df-5870f33a-5dad-4183-a51e-f76fbf8fb0be');\n",
              "          const dataTable =\n",
              "            await google.colab.kernel.invokeFunction('convertToInteractive',\n",
              "                                                     [key], {});\n",
              "          if (!dataTable) return;\n",
              "\n",
              "          const docLinkHtml = 'Like what you see? Visit the ' +\n",
              "            '<a target=\"_blank\" href=https://colab.research.google.com/notebooks/data_table.ipynb>data table notebook</a>'\n",
              "            + ' to learn more about interactive tables.';\n",
              "          element.innerHTML = '';\n",
              "          dataTable['output_type'] = 'display_data';\n",
              "          await google.colab.output.renderOutput(dataTable, element);\n",
              "          const docLink = document.createElement('div');\n",
              "          docLink.innerHTML = docLinkHtml;\n",
              "          element.appendChild(docLink);\n",
              "        }\n",
              "      </script>\n",
              "    </div>\n",
              "  </div>\n",
              "  "
            ]
          },
          "metadata": {},
          "execution_count": 79
        }
      ]
    },
    {
      "cell_type": "markdown",
      "source": [
        "# 1. Total revenue for current year"
      ],
      "metadata": {
        "id": "Y9NoU1Dg8_-K"
      }
    },
    {
      "cell_type": "code",
      "source": [
        "# grouping the dataframe by year\n",
        "revenue_per_year = customer_order.groupby(['year']).sum()\n",
        "\n",
        "# resetting the index\n",
        "revenue_per_year.reset_index(inplace=True)\n",
        "\n",
        "# removing the redundant column and renaming the required columns\n",
        "revenue_per_year = revenue_per_year.rename(columns = {'year':'current_year'})[['current_year','net_revenue']]\n",
        "print(revenue_per_year)"
      ],
      "metadata": {
        "colab": {
          "base_uri": "https://localhost:8080/"
        },
        "id": "m2qsvg7u8_Lr",
        "outputId": "d87a86b1-edf1-4c2b-dc84-7ef7d56b084f"
      },
      "execution_count": 80,
      "outputs": [
        {
          "output_type": "stream",
          "name": "stdout",
          "text": [
            "   current_year  net_revenue\n",
            "0          2015  29036749.19\n",
            "1          2016  25730943.59\n",
            "2          2017  31417495.03\n"
          ]
        }
      ]
    },
    {
      "cell_type": "markdown",
      "source": [
        "#2. New Customer Revenue\n",
        "\n",
        "Here we will use one hot encoding for the column 'year'. The column year as 3 values, so 3 columns will be generated.\n",
        "\n",
        "Customers newly added in 2016 will a value of 1 in column __\"2016\"__ and a value of 0 in column __\"2015\"__. We can filter these entries to get our output\n",
        "\n",
        "Here we will not consider the year 2015 as it not does have any previous year to evaluate adding of new customers.\n",
        "\n",
        "## a. New Customers revenue in 2016"
      ],
      "metadata": {
        "id": "t03owclV-gOG"
      }
    },
    {
      "cell_type": "code",
      "source": [
        "customer_order_onehotcoded = pd.concat([customer_order, pd.get_dummies(customer_order['year'])],axis=1)\n",
        "# new customers added in 2016\n",
        "new_customers_2016 = customer_order_onehotcoded.loc[\n",
        "                               (customer_order_onehotcoded[2015]==0)\n",
        "                              &(customer_order_onehotcoded[2016]==1)]\n",
        "new_customers_2016 = new_customers_2016.drop_duplicates(subset=['customer_email'])\n",
        "\n",
        "new_customers_2016_revenue = new_customers_2016[['customer_email','net_revenue']]\n",
        "print(new_customers_2016_revenue)"
      ],
      "metadata": {
        "colab": {
          "base_uri": "https://localhost:8080/"
        },
        "id": "LrSuHd179xWf",
        "outputId": "e761a1a1-fb5e-4a57-b521-945946560149"
      },
      "execution_count": 81,
      "outputs": [
        {
          "output_type": "stream",
          "name": "stdout",
          "text": [
            "               customer_email  net_revenue\n",
            "231294   mwrossuukz@gmail.com       197.26\n",
            "231295   gkwsoupawk@gmail.com        38.28\n",
            "231296   vlyigtgfzs@gmail.com       154.57\n",
            "231297   yfirychuhk@gmail.com       102.47\n",
            "231298   trnzgqinuu@gmail.com        32.03\n",
            "...                       ...          ...\n",
            "435935   mezrjfkced@gmail.com       114.17\n",
            "435936   rdotspqdxi@gmail.com       169.79\n",
            "435937   fkweqlmmjw@gmail.com        79.71\n",
            "435938   pidugzoeej@gmail.com       116.80\n",
            "435939   kxqglfdktu@gmail.com        37.31\n",
            "\n",
            "[204646 rows x 2 columns]\n"
          ]
        }
      ]
    },
    {
      "cell_type": "markdown",
      "source": [
        "## b. New Customers added in 2017"
      ],
      "metadata": {
        "id": "RjbsWml-JPaQ"
      }
    },
    {
      "cell_type": "code",
      "source": [
        "# new customers added in 2017\n",
        "new_customers_2017 = customer_order_onehotcoded.loc[\n",
        "                               (customer_order_onehotcoded[2016]==0)\n",
        "                              &(customer_order_onehotcoded[2017]==1)]\n",
        "new_customers_2017 = new_customers_2016.drop_duplicates(subset=['customer_email'])\n",
        "\n",
        "\n",
        "new_customers_2017_revenue = new_customers_2017[['customer_email','net_revenue']]\n",
        "print(new_customers_2017_revenue)"
      ],
      "metadata": {
        "colab": {
          "base_uri": "https://localhost:8080/"
        },
        "id": "JSUl8Lz7ESXG",
        "outputId": "d87ab2c6-f7d3-4928-a486-44d97f382829"
      },
      "execution_count": 82,
      "outputs": [
        {
          "output_type": "stream",
          "name": "stdout",
          "text": [
            "               customer_email  net_revenue\n",
            "231294   mwrossuukz@gmail.com       197.26\n",
            "231295   gkwsoupawk@gmail.com        38.28\n",
            "231296   vlyigtgfzs@gmail.com       154.57\n",
            "231297   yfirychuhk@gmail.com       102.47\n",
            "231298   trnzgqinuu@gmail.com        32.03\n",
            "...                       ...          ...\n",
            "435935   mezrjfkced@gmail.com       114.17\n",
            "435936   rdotspqdxi@gmail.com       169.79\n",
            "435937   fkweqlmmjw@gmail.com        79.71\n",
            "435938   pidugzoeej@gmail.com       116.80\n",
            "435939   kxqglfdktu@gmail.com        37.31\n",
            "\n",
            "[204646 rows x 2 columns]\n"
          ]
        }
      ]
    },
    {
      "cell_type": "markdown",
      "source": [
        "#3. Existing customer Growth\n",
        "\n",
        "We will consider the entries of cunstomers which appear in 2 consecutive years to identify existing customers accross 2 years\n",
        "\n",
        "Then we will join the dataframe from 2 consecutive years on the customer email ids. The growth of each existing customer will be evaluated by subtracting the net_revenue of customer in the previous year from the net_revenue of customer in the current year\n",
        "\n",
        "Here we will not consider the column 2015 as it does not have any previous year to compare for growth\n",
        "\n",
        "\n",
        "## a. Existing customer growth from 2015 to 2016 (for 2016)"
      ],
      "metadata": {
        "id": "n4vNLk8RFNPT"
      }
    },
    {
      "cell_type": "code",
      "source": [
        "# filtering existing customers from 2015\n",
        "prev_year = customer_order[customer_order['year'] == 2015]\n",
        "\n",
        "# filtering existing customers from 2016\n",
        "current_year = customer_order[customer_order['year'] == 2016]\n",
        "\n",
        "#merging the existing cutomers on the customer email\n",
        "existing_cutomers_growth_2016 = prev_year.merge(current_year, how='inner', on = 'customer_email')\n",
        "existing_cutomers_growth_2016.columns = ['customer_email','net_revenue_2015','2015','net_revenue_2016','2016']\n",
        "existing_cutomers_growth_2016['growth'] = existing_cutomers_growth_2016['net_revenue_2016'] - existing_cutomers_growth_2016['net_revenue_2015']\n",
        "\n",
        "print(existing_cutomers_growth_2016)"
      ],
      "metadata": {
        "colab": {
          "base_uri": "https://localhost:8080/"
        },
        "id": "N9zUCzkQFMxp",
        "outputId": "df46dc52-77b0-418e-feee-80ea213ea547"
      },
      "execution_count": 83,
      "outputs": [
        {
          "output_type": "stream",
          "name": "stdout",
          "text": [
            "              customer_email  net_revenue_2015  2015  net_revenue_2016  2016  \\\n",
            "0       baiikostmd@gmail.com            170.70  2015            142.57  2016   \n",
            "1       lfeafnigbu@gmail.com             54.99  2015             35.06  2016   \n",
            "2       tqxsjlgjpi@gmail.com            107.71  2015             33.50  2016   \n",
            "3       hxshgpdxtr@gmail.com            180.59  2015            217.35  2016   \n",
            "4       zvhsssvgor@gmail.com             21.55  2015             43.84  2016   \n",
            "...                      ...               ...   ...               ...   ...   \n",
            "59579   tpdtoiokyt@gmail.com             82.88  2015              5.60  2016   \n",
            "59580   yeserbsmyf@gmail.com             46.60  2015             83.72  2016   \n",
            "59581   nyunstvnpc@gmail.com             24.97  2015             18.56  2016   \n",
            "59582   mezrjfkced@gmail.com            118.19  2015            114.17  2016   \n",
            "59583   kxqglfdktu@gmail.com             73.32  2015             37.31  2016   \n",
            "\n",
            "       growth  \n",
            "0      -28.13  \n",
            "1      -19.93  \n",
            "2      -74.21  \n",
            "3       36.76  \n",
            "4       22.29  \n",
            "...       ...  \n",
            "59579  -77.28  \n",
            "59580   37.12  \n",
            "59581   -6.41  \n",
            "59582   -4.02  \n",
            "59583  -36.01  \n",
            "\n",
            "[59584 rows x 6 columns]\n"
          ]
        }
      ]
    },
    {
      "cell_type": "markdown",
      "source": [
        "## b. Existing customer growth from 2016 to 2017 (for 2017)"
      ],
      "metadata": {
        "id": "XPIiiW0XIwdz"
      }
    },
    {
      "cell_type": "code",
      "source": [
        "# filtering existing customers from 2016\n",
        "prev_year = customer_order[customer_order['year'] == 2016]\n",
        "\n",
        "# filtering existing customers from 2017\n",
        "current_year = customer_order[customer_order['year'] == 2017]\n",
        "\n",
        "#merging the existing cutomers on the customer email\n",
        "existing_cutomers_growth_2017 = prev_year.merge(current_year, how='inner', on = 'customer_email')\n",
        "existing_cutomers_growth_2017.columns = ['customer_email','net_revenue_2016','2016','net_revenue_2017','2017']\n",
        "existing_cutomers_growth_2017['growth'] = existing_cutomers_growth_2017['net_revenue_2017'] - existing_cutomers_growth_2017['net_revenue_2016']\n",
        "\n",
        "print(existing_cutomers_growth_2017)"
      ],
      "metadata": {
        "colab": {
          "base_uri": "https://localhost:8080/"
        },
        "id": "x43cr5sYIz43",
        "outputId": "a9603d59-830f-4f7a-a410-b921fa54d72e"
      },
      "execution_count": 84,
      "outputs": [
        {
          "output_type": "stream",
          "name": "stdout",
          "text": [
            "             customer_email  net_revenue_2016  2016  net_revenue_2017  2017  \\\n",
            "0      yixtbjnxce@gmail.com            201.32  2016            133.86  2017   \n",
            "1      gwqjyelgct@gmail.com             14.62  2016            164.10  2017   \n",
            "2      hxshgpdxtr@gmail.com            217.35  2016            178.10  2017   \n",
            "3      gipqsrvngd@gmail.com            156.06  2016            172.90  2017   \n",
            "4      cdvwonzpwu@gmail.com            140.43  2016            102.46  2017   \n",
            "...                     ...               ...   ...               ...   ...   \n",
            "20954  flkeldljhv@gmail.com            211.68  2016            180.01  2017   \n",
            "20955  ecrvkbfunu@gmail.com            230.49  2016            205.42  2017   \n",
            "20956  tpdtoiokyt@gmail.com              5.60  2016            242.63  2017   \n",
            "20957  dcakqgznnm@gmail.com            146.47  2016             62.66  2017   \n",
            "20958  fkweqlmmjw@gmail.com             79.71  2016             21.78  2017   \n",
            "\n",
            "       growth  \n",
            "0      -67.46  \n",
            "1      149.48  \n",
            "2      -39.25  \n",
            "3       16.84  \n",
            "4      -37.97  \n",
            "...       ...  \n",
            "20954  -31.67  \n",
            "20955  -25.07  \n",
            "20956  237.03  \n",
            "20957  -83.81  \n",
            "20958  -57.93  \n",
            "\n",
            "[20959 rows x 6 columns]\n"
          ]
        }
      ]
    },
    {
      "cell_type": "markdown",
      "source": [
        "# 4. Revenue lost from Attrition\n",
        "We will consider the dataframe generated from the previous question __\"existing_cutomers_growth_2015\"__ and __\"existing_cutomers_growth_2016\"__.\n",
        "\n",
        "For getting the revenue lost will sum of the negative growth values for each year.\n",
        "\n",
        "We will not consider the year 2015 as it does not have previous to compare the reduction in the revenue\n",
        "\n",
        "## a. Revenue lost in 2016"
      ],
      "metadata": {
        "id": "kHuo1mPjJWwg"
      }
    },
    {
      "cell_type": "code",
      "source": [
        "# revenue lost in 2016\n",
        "lost_revenue_2016 = existing_cutomers_growth_2016[existing_cutomers_growth_2016['growth']<0]\n",
        "print(\"Revenue lost in 2016 due to attrition :\", round(abs(sum(lost_revenue_2016['growth'])),2))\n",
        "\n"
      ],
      "metadata": {
        "colab": {
          "base_uri": "https://localhost:8080/"
        },
        "id": "lLVqLGGKJVhm",
        "outputId": "7ad45852-073f-47f0-b1fb-84cf457c7ee0"
      },
      "execution_count": 85,
      "outputs": [
        {
          "output_type": "stream",
          "name": "stdout",
          "text": [
            "Revenue lost in 2016 due to attrition : 2456027.9\n"
          ]
        }
      ]
    },
    {
      "cell_type": "markdown",
      "source": [
        "## b. Revenue lost in 2017"
      ],
      "metadata": {
        "id": "rKFov658Nu3f"
      }
    },
    {
      "cell_type": "code",
      "source": [
        "# revenue lost in 2017\n",
        "lost_revenue_2017 = existing_cutomers_growth_2017[existing_cutomers_growth_2017['growth']<0]\n",
        "print(\"Revenue lost in 2017 due to attrition :\", round(abs(sum(lost_revenue_2017['growth'])),2))"
      ],
      "metadata": {
        "colab": {
          "base_uri": "https://localhost:8080/"
        },
        "id": "1I3qrajqNvcc",
        "outputId": "ec6bd62b-1044-4772-ef1f-17656ba2fd5b"
      },
      "execution_count": 86,
      "outputs": [
        {
          "output_type": "stream",
          "name": "stdout",
          "text": [
            "Revenue lost in 2017 due to attrition : 855291.6\n"
          ]
        }
      ]
    },
    {
      "cell_type": "markdown",
      "source": [
        "#5. Existing Customer Revenue Current Year \n",
        "\n",
        "We will use the __\"existing_customer_growth\"__ dataframe to identify revenue of existing customers in current year\n",
        "\n",
        "Here we will not consider the column 2015 as it does hot have any previous year to compare with.\n",
        "\n",
        "## a. Existing customer revenue for 2016"
      ],
      "metadata": {
        "id": "2m0qaGsPN8NU"
      }
    },
    {
      "cell_type": "code",
      "source": [
        "existing_cutomers_revenue_2016 = existing_cutomers_growth_2016[['customer_email','net_revenue_2016']]\n",
        "print(existing_cutomers_revenue_2016)"
      ],
      "metadata": {
        "colab": {
          "base_uri": "https://localhost:8080/"
        },
        "id": "Fccjw9WMN6OO",
        "outputId": "631e4ba8-ab7b-4945-e009-02292e97d432"
      },
      "execution_count": 87,
      "outputs": [
        {
          "output_type": "stream",
          "name": "stdout",
          "text": [
            "              customer_email  net_revenue_2016\n",
            "0       baiikostmd@gmail.com            142.57\n",
            "1       lfeafnigbu@gmail.com             35.06\n",
            "2       tqxsjlgjpi@gmail.com             33.50\n",
            "3       hxshgpdxtr@gmail.com            217.35\n",
            "4       zvhsssvgor@gmail.com             43.84\n",
            "...                      ...               ...\n",
            "59579   tpdtoiokyt@gmail.com              5.60\n",
            "59580   yeserbsmyf@gmail.com             83.72\n",
            "59581   nyunstvnpc@gmail.com             18.56\n",
            "59582   mezrjfkced@gmail.com            114.17\n",
            "59583   kxqglfdktu@gmail.com             37.31\n",
            "\n",
            "[59584 rows x 2 columns]\n"
          ]
        }
      ]
    },
    {
      "cell_type": "markdown",
      "source": [
        "##b. Existing customer revenue for 2017"
      ],
      "metadata": {
        "id": "fwLihRQJRpyA"
      }
    },
    {
      "cell_type": "code",
      "source": [
        "existing_cutomers_revenue_2017 = existing_cutomers_growth_2017[['customer_email','net_revenue_2017']]\n",
        "print(existing_cutomers_revenue_2017)"
      ],
      "metadata": {
        "colab": {
          "base_uri": "https://localhost:8080/"
        },
        "id": "xuI5FZ5URQTy",
        "outputId": "c22f76a1-2e42-4a75-eb6d-20e5b252e919"
      },
      "execution_count": 88,
      "outputs": [
        {
          "output_type": "stream",
          "name": "stdout",
          "text": [
            "             customer_email  net_revenue_2017\n",
            "0      yixtbjnxce@gmail.com            133.86\n",
            "1      gwqjyelgct@gmail.com            164.10\n",
            "2      hxshgpdxtr@gmail.com            178.10\n",
            "3      gipqsrvngd@gmail.com            172.90\n",
            "4      cdvwonzpwu@gmail.com            102.46\n",
            "...                     ...               ...\n",
            "20954  flkeldljhv@gmail.com            180.01\n",
            "20955  ecrvkbfunu@gmail.com            205.42\n",
            "20956  tpdtoiokyt@gmail.com            242.63\n",
            "20957  dcakqgznnm@gmail.com             62.66\n",
            "20958  fkweqlmmjw@gmail.com             21.78\n",
            "\n",
            "[20959 rows x 2 columns]\n"
          ]
        }
      ]
    },
    {
      "cell_type": "markdown",
      "source": [
        "#6. Existing Customer Revenue Pior Year\n",
        "\n",
        "We will use the __\"existing_customer_growth\"__ dataframe to identify revenue of existing customers in current year\n",
        "\n",
        "Here we will not consider the column 2015 as it does hot have any previous year to compare with.\n",
        "\n",
        "## a. Existing customer revenue for year prior to 2016"
      ],
      "metadata": {
        "id": "zz41UEscR5Vj"
      }
    },
    {
      "cell_type": "code",
      "source": [
        "existing_cutomers_revenue_2016_prior = existing_cutomers_growth_2016[['customer_email','net_revenue_2015']]\n",
        "print(existing_cutomers_revenue_2016_prior)"
      ],
      "metadata": {
        "colab": {
          "base_uri": "https://localhost:8080/"
        },
        "id": "EBDvET11SeM5",
        "outputId": "48d65f0b-c673-4b8b-e686-32a69d077203"
      },
      "execution_count": 89,
      "outputs": [
        {
          "output_type": "stream",
          "name": "stdout",
          "text": [
            "              customer_email  net_revenue_2015\n",
            "0       baiikostmd@gmail.com            170.70\n",
            "1       lfeafnigbu@gmail.com             54.99\n",
            "2       tqxsjlgjpi@gmail.com            107.71\n",
            "3       hxshgpdxtr@gmail.com            180.59\n",
            "4       zvhsssvgor@gmail.com             21.55\n",
            "...                      ...               ...\n",
            "59579   tpdtoiokyt@gmail.com             82.88\n",
            "59580   yeserbsmyf@gmail.com             46.60\n",
            "59581   nyunstvnpc@gmail.com             24.97\n",
            "59582   mezrjfkced@gmail.com            118.19\n",
            "59583   kxqglfdktu@gmail.com             73.32\n",
            "\n",
            "[59584 rows x 2 columns]\n"
          ]
        }
      ]
    },
    {
      "cell_type": "markdown",
      "source": [
        "## a. Existing customer revenue for year prior to 2017"
      ],
      "metadata": {
        "id": "iHFdRqweSe5i"
      }
    },
    {
      "cell_type": "code",
      "source": [
        "existing_cutomers_revenue_2017_prior = existing_cutomers_growth_2017[['customer_email','net_revenue_2016']]\n",
        "print(existing_cutomers_revenue_2017_prior)"
      ],
      "metadata": {
        "colab": {
          "base_uri": "https://localhost:8080/"
        },
        "id": "Y5lF17k9SjQX",
        "outputId": "cf6eddad-233b-454f-9357-a0e8f5533058"
      },
      "execution_count": 90,
      "outputs": [
        {
          "output_type": "stream",
          "name": "stdout",
          "text": [
            "             customer_email  net_revenue_2016\n",
            "0      yixtbjnxce@gmail.com            201.32\n",
            "1      gwqjyelgct@gmail.com             14.62\n",
            "2      hxshgpdxtr@gmail.com            217.35\n",
            "3      gipqsrvngd@gmail.com            156.06\n",
            "4      cdvwonzpwu@gmail.com            140.43\n",
            "...                     ...               ...\n",
            "20954  flkeldljhv@gmail.com            211.68\n",
            "20955  ecrvkbfunu@gmail.com            230.49\n",
            "20956  tpdtoiokyt@gmail.com              5.60\n",
            "20957  dcakqgznnm@gmail.com            146.47\n",
            "20958  fkweqlmmjw@gmail.com             79.71\n",
            "\n",
            "[20959 rows x 2 columns]\n"
          ]
        }
      ]
    },
    {
      "cell_type": "markdown",
      "source": [
        "#7. Total Customers current year\n",
        "\n",
        "## a. Total Customers in 2015"
      ],
      "metadata": {
        "id": "ZcWYAxVkTIT1"
      }
    },
    {
      "cell_type": "code",
      "source": [
        "customers_2015 = customer_order[customer_order['year']==2015]\n",
        "print(\"Total number of customers in 2015: \", customers_2015['customer_email'].nunique())"
      ],
      "metadata": {
        "colab": {
          "base_uri": "https://localhost:8080/"
        },
        "id": "ZEplj1tTStoa",
        "outputId": "869aa67f-873a-4b95-892a-0015678e0e04"
      },
      "execution_count": 91,
      "outputs": [
        {
          "output_type": "stream",
          "name": "stdout",
          "text": [
            "Total number of customers in 2015:  231294\n"
          ]
        }
      ]
    },
    {
      "cell_type": "markdown",
      "source": [
        "## b. Total Customers in 2016"
      ],
      "metadata": {
        "id": "N86ob1z8UWJ7"
      }
    },
    {
      "cell_type": "code",
      "source": [
        "customers_2016 = customer_order[customer_order['year']==2016]\n",
        "print(\"Total number of customers in 2016: \", customers_2016['customer_email'].nunique())"
      ],
      "metadata": {
        "colab": {
          "base_uri": "https://localhost:8080/"
        },
        "id": "qYlRp4gDTwcs",
        "outputId": "a241f631-5f3f-4393-b9fb-e90aed733b9c"
      },
      "execution_count": 92,
      "outputs": [
        {
          "output_type": "stream",
          "name": "stdout",
          "text": [
            "Total number of customers in 2016:  204646\n"
          ]
        }
      ]
    },
    {
      "cell_type": "markdown",
      "source": [
        "## c. Total Customers in 2017"
      ],
      "metadata": {
        "id": "UOFt-aJ2UfH7"
      }
    },
    {
      "cell_type": "code",
      "source": [
        "customers_2017 = customer_order[customer_order['year']==2017]\n",
        "print(\"Total number of customers in 2017: \", customers_2017['customer_email'].nunique())"
      ],
      "metadata": {
        "colab": {
          "base_uri": "https://localhost:8080/"
        },
        "id": "rRPb0DaeUiQr",
        "outputId": "b2b1a707-4a09-4b1c-dbeb-d8d7319828cc"
      },
      "execution_count": 93,
      "outputs": [
        {
          "output_type": "stream",
          "name": "stdout",
          "text": [
            "Total number of customers in 2017:  249987\n"
          ]
        }
      ]
    },
    {
      "cell_type": "markdown",
      "source": [
        "#8. Total Customers previous year\n",
        "\n",
        "For the year 2015 there is not previous year to compare hence we will only consider this case for years 2016 and 2017\n",
        "\n",
        "## a. Total customers in the year prior to 2016"
      ],
      "metadata": {
        "id": "C5N00VX_U0lo"
      }
    },
    {
      "cell_type": "code",
      "source": [
        "customers_2016_prior = customer_order[customer_order['year']==2015]\n",
        "print(\"Total number of customers in the year prior to 2016: \", customers_2015['customer_email'].nunique())"
      ],
      "metadata": {
        "colab": {
          "base_uri": "https://localhost:8080/"
        },
        "id": "1X75WLCrU6En",
        "outputId": "5a7d5375-9264-4632-f7a1-83255eb0599a"
      },
      "execution_count": 94,
      "outputs": [
        {
          "output_type": "stream",
          "name": "stdout",
          "text": [
            "Total number of customers in the year prior to 2016:  231294\n"
          ]
        }
      ]
    },
    {
      "cell_type": "markdown",
      "source": [
        "## b. Total customers in the year prior to 2015"
      ],
      "metadata": {
        "id": "1Y5_zPP6VnaD"
      }
    },
    {
      "cell_type": "code",
      "source": [
        "customers_2017_prior = customer_order[customer_order['year']==2016]\n",
        "print(\"Total number of customers in the year prior to 2017: \", customers_2016['customer_email'].nunique())"
      ],
      "metadata": {
        "colab": {
          "base_uri": "https://localhost:8080/"
        },
        "id": "SUanwb2CVtTH",
        "outputId": "97779274-8faa-4995-fd72-97a2fa4217a4"
      },
      "execution_count": 95,
      "outputs": [
        {
          "output_type": "stream",
          "name": "stdout",
          "text": [
            "Total number of customers in the year prior to 2017:  204646\n"
          ]
        }
      ]
    },
    {
      "cell_type": "markdown",
      "source": [
        "#9. New Customers\n",
        "\n",
        "For the year 2015 there is not previous year to compare hence we will only consider this case for years 2016 and 2017\n",
        "\n",
        "## a. Customers added in 2016\n",
        "We will take the dataframe created in 2a"
      ],
      "metadata": {
        "id": "mc-KmSKAV0tF"
      }
    },
    {
      "cell_type": "code",
      "source": [
        "print(new_customers_2016)"
      ],
      "metadata": {
        "colab": {
          "base_uri": "https://localhost:8080/"
        },
        "id": "4nGZmY_sV36s",
        "outputId": "a27e334c-4f4e-45fa-c384-e91727d7a09d"
      },
      "execution_count": 96,
      "outputs": [
        {
          "output_type": "stream",
          "name": "stdout",
          "text": [
            "               customer_email  net_revenue  year  2015  2016  2017\n",
            "231294   mwrossuukz@gmail.com       197.26  2016     0     1     0\n",
            "231295   gkwsoupawk@gmail.com        38.28  2016     0     1     0\n",
            "231296   vlyigtgfzs@gmail.com       154.57  2016     0     1     0\n",
            "231297   yfirychuhk@gmail.com       102.47  2016     0     1     0\n",
            "231298   trnzgqinuu@gmail.com        32.03  2016     0     1     0\n",
            "...                       ...          ...   ...   ...   ...   ...\n",
            "435935   mezrjfkced@gmail.com       114.17  2016     0     1     0\n",
            "435936   rdotspqdxi@gmail.com       169.79  2016     0     1     0\n",
            "435937   fkweqlmmjw@gmail.com        79.71  2016     0     1     0\n",
            "435938   pidugzoeej@gmail.com       116.80  2016     0     1     0\n",
            "435939   kxqglfdktu@gmail.com        37.31  2016     0     1     0\n",
            "\n",
            "[204646 rows x 6 columns]\n"
          ]
        }
      ]
    },
    {
      "cell_type": "markdown",
      "source": [
        "##b. Customers added in 2017\n",
        "\n",
        "We will take the dataframe created in 2b"
      ],
      "metadata": {
        "id": "Cpv-ZFV_WxHL"
      }
    },
    {
      "cell_type": "code",
      "source": [
        "print(new_customers_2017)"
      ],
      "metadata": {
        "colab": {
          "base_uri": "https://localhost:8080/"
        },
        "id": "xGmtrJTeWrs5",
        "outputId": "c2d466cf-f1ba-4adc-d9e0-db239ee74acd"
      },
      "execution_count": 97,
      "outputs": [
        {
          "output_type": "stream",
          "name": "stdout",
          "text": [
            "               customer_email  net_revenue  year  2015  2016  2017\n",
            "231294   mwrossuukz@gmail.com       197.26  2016     0     1     0\n",
            "231295   gkwsoupawk@gmail.com        38.28  2016     0     1     0\n",
            "231296   vlyigtgfzs@gmail.com       154.57  2016     0     1     0\n",
            "231297   yfirychuhk@gmail.com       102.47  2016     0     1     0\n",
            "231298   trnzgqinuu@gmail.com        32.03  2016     0     1     0\n",
            "...                       ...          ...   ...   ...   ...   ...\n",
            "435935   mezrjfkced@gmail.com       114.17  2016     0     1     0\n",
            "435936   rdotspqdxi@gmail.com       169.79  2016     0     1     0\n",
            "435937   fkweqlmmjw@gmail.com        79.71  2016     0     1     0\n",
            "435938   pidugzoeej@gmail.com       116.80  2016     0     1     0\n",
            "435939   kxqglfdktu@gmail.com        37.31  2016     0     1     0\n",
            "\n",
            "[204646 rows x 6 columns]\n"
          ]
        }
      ]
    },
    {
      "cell_type": "markdown",
      "source": [
        "# 10. Lost Customers\n",
        "\n",
        "For the year 2015 there is not previous year to compare hence we will only consider this case for years 2016 and 2017\n",
        "\n",
        "## a. Customers lost in 2016 (with respect to 2015)"
      ],
      "metadata": {
        "id": "MEs1FlwyXC7w"
      }
    },
    {
      "cell_type": "code",
      "source": [
        "customers_lost_2016 = customer_order_onehotcoded.loc[\n",
        "                               (customer_order_onehotcoded[2015]==1)\n",
        "                              &(customer_order_onehotcoded[2016]==0)]\n",
        "print(customers_lost_2016)"
      ],
      "metadata": {
        "colab": {
          "base_uri": "https://localhost:8080/"
        },
        "id": "yNRPAFlzW9qI",
        "outputId": "b4b70772-2de7-4a73-9d99-0c4dd4d457da"
      },
      "execution_count": 98,
      "outputs": [
        {
          "output_type": "stream",
          "name": "stdout",
          "text": [
            "               customer_email  net_revenue  year  2015  2016  2017\n",
            "0        nhknapwsbx@gmail.com       249.92  2015     1     0     0\n",
            "1        joiuzbvcpn@gmail.com        87.61  2015     1     0     0\n",
            "2        ukkjctepxt@gmail.com       168.38  2015     1     0     0\n",
            "3        gykatilzrt@gmail.com        62.40  2015     1     0     0\n",
            "4        mmsgsrtxah@gmail.com        43.08  2015     1     0     0\n",
            "...                       ...          ...   ...   ...   ...   ...\n",
            "231289   xtrpmgjbwp@gmail.com       216.89  2015     1     0     0\n",
            "231290   peeorxpsbr@gmail.com        39.16  2015     1     0     0\n",
            "231291   vanasezjpw@gmail.com       233.46  2015     1     0     0\n",
            "231292   dnpremlztb@gmail.com       136.27  2015     1     0     0\n",
            "231293   qsgswrpycl@gmail.com        60.24  2015     1     0     0\n",
            "\n",
            "[231294 rows x 6 columns]\n"
          ]
        }
      ]
    },
    {
      "cell_type": "markdown",
      "source": [
        "## a. Customers lost in 2017 (with respect to 2016)"
      ],
      "metadata": {
        "id": "FN7inx9CXkRr"
      }
    },
    {
      "cell_type": "code",
      "source": [
        "customers_lost_2017 = customer_order_onehotcoded.loc[\n",
        "                               (customer_order_onehotcoded[2016]==1)\n",
        "                              &(customer_order_onehotcoded[2017]==0)]\n",
        "print(customers_lost_2017)"
      ],
      "metadata": {
        "colab": {
          "base_uri": "https://localhost:8080/"
        },
        "id": "9sYkBKEbXi6L",
        "outputId": "82e9dbeb-4fb1-4620-8db5-18b40ef611d3"
      },
      "execution_count": 99,
      "outputs": [
        {
          "output_type": "stream",
          "name": "stdout",
          "text": [
            "               customer_email  net_revenue  year  2015  2016  2017\n",
            "231294   mwrossuukz@gmail.com       197.26  2016     0     1     0\n",
            "231295   gkwsoupawk@gmail.com        38.28  2016     0     1     0\n",
            "231296   vlyigtgfzs@gmail.com       154.57  2016     0     1     0\n",
            "231297   yfirychuhk@gmail.com       102.47  2016     0     1     0\n",
            "231298   trnzgqinuu@gmail.com        32.03  2016     0     1     0\n",
            "...                       ...          ...   ...   ...   ...   ...\n",
            "435935   mezrjfkced@gmail.com       114.17  2016     0     1     0\n",
            "435936   rdotspqdxi@gmail.com       169.79  2016     0     1     0\n",
            "435937   fkweqlmmjw@gmail.com        79.71  2016     0     1     0\n",
            "435938   pidugzoeej@gmail.com       116.80  2016     0     1     0\n",
            "435939   kxqglfdktu@gmail.com        37.31  2016     0     1     0\n",
            "\n",
            "[204646 rows x 6 columns]\n"
          ]
        }
      ]
    },
    {
      "cell_type": "markdown",
      "source": [
        "#11. Visualization"
      ],
      "metadata": {
        "id": "0rp1WdX7XvGV"
      }
    },
    {
      "cell_type": "code",
      "source": [
        "customer_order.head()"
      ],
      "metadata": {
        "colab": {
          "base_uri": "https://localhost:8080/",
          "height": 206
        },
        "id": "aTAfUxmWXxEu",
        "outputId": "493a0e02-ad78-41b1-c95d-11b9dbc4b540"
      },
      "execution_count": 100,
      "outputs": [
        {
          "output_type": "execute_result",
          "data": {
            "text/plain": [
              "          customer_email  net_revenue  year\n",
              "0   nhknapwsbx@gmail.com       249.92  2015\n",
              "1   joiuzbvcpn@gmail.com        87.61  2015\n",
              "2   ukkjctepxt@gmail.com       168.38  2015\n",
              "3   gykatilzrt@gmail.com        62.40  2015\n",
              "4   mmsgsrtxah@gmail.com        43.08  2015"
            ],
            "text/html": [
              "\n",
              "  <div id=\"df-5c4a45e2-20c1-45d7-a146-9f8ab16e889c\">\n",
              "    <div class=\"colab-df-container\">\n",
              "      <div>\n",
              "<style scoped>\n",
              "    .dataframe tbody tr th:only-of-type {\n",
              "        vertical-align: middle;\n",
              "    }\n",
              "\n",
              "    .dataframe tbody tr th {\n",
              "        vertical-align: top;\n",
              "    }\n",
              "\n",
              "    .dataframe thead th {\n",
              "        text-align: right;\n",
              "    }\n",
              "</style>\n",
              "<table border=\"1\" class=\"dataframe\">\n",
              "  <thead>\n",
              "    <tr style=\"text-align: right;\">\n",
              "      <th></th>\n",
              "      <th>customer_email</th>\n",
              "      <th>net_revenue</th>\n",
              "      <th>year</th>\n",
              "    </tr>\n",
              "  </thead>\n",
              "  <tbody>\n",
              "    <tr>\n",
              "      <th>0</th>\n",
              "      <td>nhknapwsbx@gmail.com</td>\n",
              "      <td>249.92</td>\n",
              "      <td>2015</td>\n",
              "    </tr>\n",
              "    <tr>\n",
              "      <th>1</th>\n",
              "      <td>joiuzbvcpn@gmail.com</td>\n",
              "      <td>87.61</td>\n",
              "      <td>2015</td>\n",
              "    </tr>\n",
              "    <tr>\n",
              "      <th>2</th>\n",
              "      <td>ukkjctepxt@gmail.com</td>\n",
              "      <td>168.38</td>\n",
              "      <td>2015</td>\n",
              "    </tr>\n",
              "    <tr>\n",
              "      <th>3</th>\n",
              "      <td>gykatilzrt@gmail.com</td>\n",
              "      <td>62.40</td>\n",
              "      <td>2015</td>\n",
              "    </tr>\n",
              "    <tr>\n",
              "      <th>4</th>\n",
              "      <td>mmsgsrtxah@gmail.com</td>\n",
              "      <td>43.08</td>\n",
              "      <td>2015</td>\n",
              "    </tr>\n",
              "  </tbody>\n",
              "</table>\n",
              "</div>\n",
              "      <button class=\"colab-df-convert\" onclick=\"convertToInteractive('df-5c4a45e2-20c1-45d7-a146-9f8ab16e889c')\"\n",
              "              title=\"Convert this dataframe to an interactive table.\"\n",
              "              style=\"display:none;\">\n",
              "        \n",
              "  <svg xmlns=\"http://www.w3.org/2000/svg\" height=\"24px\"viewBox=\"0 0 24 24\"\n",
              "       width=\"24px\">\n",
              "    <path d=\"M0 0h24v24H0V0z\" fill=\"none\"/>\n",
              "    <path d=\"M18.56 5.44l.94 2.06.94-2.06 2.06-.94-2.06-.94-.94-2.06-.94 2.06-2.06.94zm-11 1L8.5 8.5l.94-2.06 2.06-.94-2.06-.94L8.5 2.5l-.94 2.06-2.06.94zm10 10l.94 2.06.94-2.06 2.06-.94-2.06-.94-.94-2.06-.94 2.06-2.06.94z\"/><path d=\"M17.41 7.96l-1.37-1.37c-.4-.4-.92-.59-1.43-.59-.52 0-1.04.2-1.43.59L10.3 9.45l-7.72 7.72c-.78.78-.78 2.05 0 2.83L4 21.41c.39.39.9.59 1.41.59.51 0 1.02-.2 1.41-.59l7.78-7.78 2.81-2.81c.8-.78.8-2.07 0-2.86zM5.41 20L4 18.59l7.72-7.72 1.47 1.35L5.41 20z\"/>\n",
              "  </svg>\n",
              "      </button>\n",
              "      \n",
              "  <style>\n",
              "    .colab-df-container {\n",
              "      display:flex;\n",
              "      flex-wrap:wrap;\n",
              "      gap: 12px;\n",
              "    }\n",
              "\n",
              "    .colab-df-convert {\n",
              "      background-color: #E8F0FE;\n",
              "      border: none;\n",
              "      border-radius: 50%;\n",
              "      cursor: pointer;\n",
              "      display: none;\n",
              "      fill: #1967D2;\n",
              "      height: 32px;\n",
              "      padding: 0 0 0 0;\n",
              "      width: 32px;\n",
              "    }\n",
              "\n",
              "    .colab-df-convert:hover {\n",
              "      background-color: #E2EBFA;\n",
              "      box-shadow: 0px 1px 2px rgba(60, 64, 67, 0.3), 0px 1px 3px 1px rgba(60, 64, 67, 0.15);\n",
              "      fill: #174EA6;\n",
              "    }\n",
              "\n",
              "    [theme=dark] .colab-df-convert {\n",
              "      background-color: #3B4455;\n",
              "      fill: #D2E3FC;\n",
              "    }\n",
              "\n",
              "    [theme=dark] .colab-df-convert:hover {\n",
              "      background-color: #434B5C;\n",
              "      box-shadow: 0px 1px 3px 1px rgba(0, 0, 0, 0.15);\n",
              "      filter: drop-shadow(0px 1px 2px rgba(0, 0, 0, 0.3));\n",
              "      fill: #FFFFFF;\n",
              "    }\n",
              "  </style>\n",
              "\n",
              "      <script>\n",
              "        const buttonEl =\n",
              "          document.querySelector('#df-5c4a45e2-20c1-45d7-a146-9f8ab16e889c button.colab-df-convert');\n",
              "        buttonEl.style.display =\n",
              "          google.colab.kernel.accessAllowed ? 'block' : 'none';\n",
              "\n",
              "        async function convertToInteractive(key) {\n",
              "          const element = document.querySelector('#df-5c4a45e2-20c1-45d7-a146-9f8ab16e889c');\n",
              "          const dataTable =\n",
              "            await google.colab.kernel.invokeFunction('convertToInteractive',\n",
              "                                                     [key], {});\n",
              "          if (!dataTable) return;\n",
              "\n",
              "          const docLinkHtml = 'Like what you see? Visit the ' +\n",
              "            '<a target=\"_blank\" href=https://colab.research.google.com/notebooks/data_table.ipynb>data table notebook</a>'\n",
              "            + ' to learn more about interactive tables.';\n",
              "          element.innerHTML = '';\n",
              "          dataTable['output_type'] = 'display_data';\n",
              "          await google.colab.output.renderOutput(dataTable, element);\n",
              "          const docLink = document.createElement('div');\n",
              "          docLink.innerHTML = docLinkHtml;\n",
              "          element.appendChild(docLink);\n",
              "        }\n",
              "      </script>\n",
              "    </div>\n",
              "  </div>\n",
              "  "
            ]
          },
          "metadata": {},
          "execution_count": 100
        }
      ]
    },
    {
      "cell_type": "markdown",
      "source": [
        "Plotting the net revenue for each year."
      ],
      "metadata": {
        "id": "yvBs1RgbO6OT"
      }
    },
    {
      "cell_type": "code",
      "source": [
        "# using the dataframe from case 1\n",
        "revenue_per_year\n",
        "plt.figure(figsize=(15,8))\n",
        "plt.bar(x=revenue_per_year['current_year'],height=revenue_per_year['net_revenue'], width =0.5)\n",
        "plt.xlabel(\"Year\", fontsize=18)\n",
        "plt.xticks([2015,2016,2017], rotation=45, fontsize=18)\n",
        "plt.ylabel(\"Net Revenue\", fontsize=18)\n",
        "plt.title(\"Net Revenue for current year\", fontsize=18)"
      ],
      "metadata": {
        "colab": {
          "base_uri": "https://localhost:8080/",
          "height": 578
        },
        "id": "AAS_-VuBX2dJ",
        "outputId": "7481f38d-bac6-46e1-bd58-ec55383578a8"
      },
      "execution_count": 101,
      "outputs": [
        {
          "output_type": "execute_result",
          "data": {
            "text/plain": [
              "Text(0.5, 1.0, 'Net Revenue for current year')"
            ]
          },
          "metadata": {},
          "execution_count": 101
        },
        {
          "output_type": "display_data",
          "data": {
            "text/plain": [
              "<Figure size 1080x576 with 1 Axes>"
            ],
            "image/png": "[encoded data removed]"
          },
          "metadata": {
            "needs_background": "light"
          }
        }
      ]
    },
    {
      "cell_type": "markdown",
      "source": [
        "From the plot we can conclude that the revenue drops from 2015 to 2016 and increases from 2016 to 2017. This proves the larger revenue fall of __\"2456027.9\"__ from 2015 to 2016 as compared to the revenue fall of __\"855291.6\"__ from 2016 to 2017. Referenced from point 4a and 4b above.\n",
        "\n",
        "\n",
        "Similar trend is observed for the customer count as well"
      ],
      "metadata": {
        "id": "9vmYtb1xPApM"
      }
    },
    {
      "cell_type": "code",
      "source": [
        "# grouping the dataframe by year\n",
        "customer_per_year = customer_order.groupby(['year']).count()\n",
        "\n",
        "# resetting the index\n",
        "customer_per_year.reset_index(inplace=True)\n",
        "\n",
        "\n",
        "customer_per_year = customer_per_year[['year','customer_email']]\n",
        "customer_per_year"
      ],
      "metadata": {
        "colab": {
          "base_uri": "https://localhost:8080/",
          "height": 143
        },
        "id": "s-y4e-yMY1Ye",
        "outputId": "1d816209-e3ac-4e2e-af2f-d4586c70acbc"
      },
      "execution_count": 102,
      "outputs": [
        {
          "output_type": "execute_result",
          "data": {
            "text/plain": [
              "   year  customer_email\n",
              "0  2015          231294\n",
              "1  2016          204646\n",
              "2  2017          249987"
            ],
            "text/html": [
              "\n",
              "  <div id=\"df-b661ba44-b43b-462b-8aee-f7a920711e52\">\n",
              "    <div class=\"colab-df-container\">\n",
              "      <div>\n",
              "<style scoped>\n",
              "    .dataframe tbody tr th:only-of-type {\n",
              "        vertical-align: middle;\n",
              "    }\n",
              "\n",
              "    .dataframe tbody tr th {\n",
              "        vertical-align: top;\n",
              "    }\n",
              "\n",
              "    .dataframe thead th {\n",
              "        text-align: right;\n",
              "    }\n",
              "</style>\n",
              "<table border=\"1\" class=\"dataframe\">\n",
              "  <thead>\n",
              "    <tr style=\"text-align: right;\">\n",
              "      <th></th>\n",
              "      <th>year</th>\n",
              "      <th>customer_email</th>\n",
              "    </tr>\n",
              "  </thead>\n",
              "  <tbody>\n",
              "    <tr>\n",
              "      <th>0</th>\n",
              "      <td>2015</td>\n",
              "      <td>231294</td>\n",
              "    </tr>\n",
              "    <tr>\n",
              "      <th>1</th>\n",
              "      <td>2016</td>\n",
              "      <td>204646</td>\n",
              "    </tr>\n",
              "    <tr>\n",
              "      <th>2</th>\n",
              "      <td>2017</td>\n",
              "      <td>249987</td>\n",
              "    </tr>\n",
              "  </tbody>\n",
              "</table>\n",
              "</div>\n",
              "      <button class=\"colab-df-convert\" onclick=\"convertToInteractive('df-b661ba44-b43b-462b-8aee-f7a920711e52')\"\n",
              "              title=\"Convert this dataframe to an interactive table.\"\n",
              "              style=\"display:none;\">\n",
              "        \n",
              "  <svg xmlns=\"http://www.w3.org/2000/svg\" height=\"24px\"viewBox=\"0 0 24 24\"\n",
              "       width=\"24px\">\n",
              "    <path d=\"M0 0h24v24H0V0z\" fill=\"none\"/>\n",
              "    <path d=\"M18.56 5.44l.94 2.06.94-2.06 2.06-.94-2.06-.94-.94-2.06-.94 2.06-2.06.94zm-11 1L8.5 8.5l.94-2.06 2.06-.94-2.06-.94L8.5 2.5l-.94 2.06-2.06.94zm10 10l.94 2.06.94-2.06 2.06-.94-2.06-.94-.94-2.06-.94 2.06-2.06.94z\"/><path d=\"M17.41 7.96l-1.37-1.37c-.4-.4-.92-.59-1.43-.59-.52 0-1.04.2-1.43.59L10.3 9.45l-7.72 7.72c-.78.78-.78 2.05 0 2.83L4 21.41c.39.39.9.59 1.41.59.51 0 1.02-.2 1.41-.59l7.78-7.78 2.81-2.81c.8-.78.8-2.07 0-2.86zM5.41 20L4 18.59l7.72-7.72 1.47 1.35L5.41 20z\"/>\n",
              "  </svg>\n",
              "      </button>\n",
              "      \n",
              "  <style>\n",
              "    .colab-df-container {\n",
              "      display:flex;\n",
              "      flex-wrap:wrap;\n",
              "      gap: 12px;\n",
              "    }\n",
              "\n",
              "    .colab-df-convert {\n",
              "      background-color: #E8F0FE;\n",
              "      border: none;\n",
              "      border-radius: 50%;\n",
              "      cursor: pointer;\n",
              "      display: none;\n",
              "      fill: #1967D2;\n",
              "      height: 32px;\n",
              "      padding: 0 0 0 0;\n",
              "      width: 32px;\n",
              "    }\n",
              "\n",
              "    .colab-df-convert:hover {\n",
              "      background-color: #E2EBFA;\n",
              "      box-shadow: 0px 1px 2px rgba(60, 64, 67, 0.3), 0px 1px 3px 1px rgba(60, 64, 67, 0.15);\n",
              "      fill: #174EA6;\n",
              "    }\n",
              "\n",
              "    [theme=dark] .colab-df-convert {\n",
              "      background-color: #3B4455;\n",
              "      fill: #D2E3FC;\n",
              "    }\n",
              "\n",
              "    [theme=dark] .colab-df-convert:hover {\n",
              "      background-color: #434B5C;\n",
              "      box-shadow: 0px 1px 3px 1px rgba(0, 0, 0, 0.15);\n",
              "      filter: drop-shadow(0px 1px 2px rgba(0, 0, 0, 0.3));\n",
              "      fill: #FFFFFF;\n",
              "    }\n",
              "  </style>\n",
              "\n",
              "      <script>\n",
              "        const buttonEl =\n",
              "          document.querySelector('#df-b661ba44-b43b-462b-8aee-f7a920711e52 button.colab-df-convert');\n",
              "        buttonEl.style.display =\n",
              "          google.colab.kernel.accessAllowed ? 'block' : 'none';\n",
              "\n",
              "        async function convertToInteractive(key) {\n",
              "          const element = document.querySelector('#df-b661ba44-b43b-462b-8aee-f7a920711e52');\n",
              "          const dataTable =\n",
              "            await google.colab.kernel.invokeFunction('convertToInteractive',\n",
              "                                                     [key], {});\n",
              "          if (!dataTable) return;\n",
              "\n",
              "          const docLinkHtml = 'Like what you see? Visit the ' +\n",
              "            '<a target=\"_blank\" href=https://colab.research.google.com/notebooks/data_table.ipynb>data table notebook</a>'\n",
              "            + ' to learn more about interactive tables.';\n",
              "          element.innerHTML = '';\n",
              "          dataTable['output_type'] = 'display_data';\n",
              "          await google.colab.output.renderOutput(dataTable, element);\n",
              "          const docLink = document.createElement('div');\n",
              "          docLink.innerHTML = docLinkHtml;\n",
              "          element.appendChild(docLink);\n",
              "        }\n",
              "      </script>\n",
              "    </div>\n",
              "  </div>\n",
              "  "
            ]
          },
          "metadata": {},
          "execution_count": 102
        }
      ]
    },
    {
      "cell_type": "code",
      "source": [
        "plt.figure(figsize=(15,8))\n",
        "plt.bar(x=customer_per_year['year'],height=customer_per_year['customer_email'], width =0.5, color='orange')\n",
        "plt.xlabel(\"Year\", fontsize=18)\n",
        "plt.xticks([2015,2016,2017], rotation=45, fontsize=18)\n",
        "plt.ylabel(\"Net Revenue\", fontsize=18)\n",
        "plt.title(\"Customer count for current year\", fontsize=18)"
      ],
      "metadata": {
        "colab": {
          "base_uri": "https://localhost:8080/",
          "height": 578
        },
        "id": "9d9et2YYbfTm",
        "outputId": "a6184981-313f-45d8-90ca-749525d59425"
      },
      "execution_count": 103,
      "outputs": [
        {
          "output_type": "execute_result",
          "data": {
            "text/plain": [
              "Text(0.5, 1.0, 'Customer count for current year')"
            ]
          },
          "metadata": {},
          "execution_count": 103
        },
        {
          "output_type": "display_data",
          "data": {
            "text/plain": [
              "<Figure size 1080x576 with 1 Axes>"
            ],
            "image/png": "[encoded data removed]"
          },
          "metadata": {
            "needs_background": "light"
          }
        }
      ]
    }
  ]
}